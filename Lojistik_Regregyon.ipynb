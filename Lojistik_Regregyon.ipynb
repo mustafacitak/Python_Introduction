{
 "cells": [
  {
   "cell_type": "code",
   "execution_count": 27,
   "id": "f16ae60f",
   "metadata": {},
   "outputs": [],
   "source": [
    "import pandas as pd\n",
    "from sklearn.model_selection import train_test_split\n",
    "from sklearn.linear_model import LogisticRegression"
   ]
  },
  {
   "cell_type": "code",
   "execution_count": 28,
   "id": "adddeec5",
   "metadata": {},
   "outputs": [],
   "source": [
    "data = {'exam_note': [80, 65, 90, 50, 75, 45, 85, 35, 95, 25, 70, 60, 80, 55, 90, 40, 85, 30, 95, 20, 70, 65, 90, 50, 75, 45, 85, 35, 95, 25, 70, 60, 80, 90, 50, 75, 45, 85, 35, 95, 25, 70, 60, 80, 55, 90, 40, 85],\n",
    "        'course_success': ['Başarılı', 'Başarılı', 'Başarılı', 'Başarısız', 'Başarılı', 'Başarısız', 'Başarılı', 'Başarısız', 'Başarılı', 'Başarısız', 'Başarılı', 'Başarısız', 'Başarılı', 'Başarısız', 'Başarılı', 'Başarısız', 'Başarılı', 'Başarısız', 'Başarılı', 'Başarısız', 'Başarılı', 'Başarısız', 'Başarılı', 'Başarısız', 'Başarılı', 'Başarısız', 'Başarılı', 'Başarısız', 'Başarılı', 'Başarısız', 'Başarılı', 'Başarısız', 'Başarılı', 'Başarılı', 'Başarısız', 'Başarılı', 'Başarısız', 'Başarılı', 'Başarısız', 'Başarılı', 'Başarısız', 'Başarılı', 'Başarısız', 'Başarılı', 'Başarısız', 'Başarılı', 'Başarısız', 'Başarılı']}\n",
    "df = pd.DataFrame(data)"
   ]
  },
  {
   "cell_type": "code",
   "execution_count": 29,
   "id": "be6d5041",
   "metadata": {},
   "outputs": [],
   "source": [
    "X = df[['exam_note']]\n",
    "y = df['course_success']\n",
    "\n",
    "model = LogisticRegression()"
   ]
  },
  {
   "cell_type": "code",
   "execution_count": 30,
   "id": "3c1dd6c0",
   "metadata": {},
   "outputs": [],
   "source": [
    "X_train, X_test, y_train, y_test = train_test_split(X, y, test_size=0.2, random_state=0)\n",
    "\n",
    "model.fit(X_train, y_train)\n",
    "y_pred = model.predict(X_test)"
   ]
  },
  {
   "cell_type": "code",
   "execution_count": 31,
   "id": "75229a4c",
   "metadata": {},
   "outputs": [
    {
     "name": "stdout",
     "output_type": "stream",
     "text": [
      "['Başarısız']\n"
     ]
    },
    {
     "name": "stderr",
     "output_type": "stream",
     "text": [
      "/Users/mustafacitak/anaconda3/lib/python3.11/site-packages/sklearn/base.py:464: UserWarning: X does not have valid feature names, but LogisticRegression was fitted with feature names\n",
      "  warnings.warn(\n"
     ]
    }
   ],
   "source": [
    "prediction = model.predict([[45]])\n",
    "print(prediction)"
   ]
  },
  {
   "cell_type": "code",
   "execution_count": null,
   "id": "7cf804da",
   "metadata": {},
   "outputs": [],
   "source": []
  },
  {
   "cell_type": "code",
   "execution_count": null,
   "id": "5bcd0847",
   "metadata": {},
   "outputs": [],
   "source": []
  }
 ],
 "metadata": {
  "kernelspec": {
   "display_name": "Python 3 (ipykernel)",
   "language": "python",
   "name": "python3"
  },
  "language_info": {
   "codemirror_mode": {
    "name": "ipython",
    "version": 3
   },
   "file_extension": ".py",
   "mimetype": "text/x-python",
   "name": "python",
   "nbconvert_exporter": "python",
   "pygments_lexer": "ipython3",
   "version": "3.11.5"
  }
 },
 "nbformat": 4,
 "nbformat_minor": 5
}
