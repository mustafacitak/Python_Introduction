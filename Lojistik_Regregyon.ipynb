{
 "cells": [
  {
   "cell_type": "code",
   "execution_count": 1,
   "id": "f16ae60f",
   "metadata": {},
   "outputs": [
    {
     "name": "stdout",
     "output_type": "stream",
     "text": [
      "    exam_note course_success\n",
      "0          80       Başarılı\n",
      "1          65       Başarılı\n",
      "2          90       Başarılı\n",
      "3          50      Başarısız\n",
      "4          75       Başarılı\n",
      "5          45      Başarısız\n",
      "6          85       Başarılı\n",
      "7          35      Başarısız\n",
      "8          95       Başarılı\n",
      "9          25      Başarısız\n",
      "10         70       Başarılı\n",
      "11         60      Başarısız\n",
      "12         80       Başarılı\n",
      "13         55      Başarısız\n",
      "14         90       Başarılı\n",
      "15         40      Başarısız\n",
      "16         85       Başarılı\n",
      "17         30      Başarısız\n",
      "18         95       Başarılı\n",
      "19         20      Başarısız\n",
      "20         70       Başarılı\n",
      "21         65      Başarısız\n",
      "22         90       Başarılı\n",
      "23         50      Başarısız\n",
      "24         75       Başarılı\n",
      "25         45      Başarısız\n",
      "26         85       Başarılı\n",
      "27         35      Başarısız\n",
      "28         95       Başarılı\n",
      "29         25      Başarısız\n",
      "30         70       Başarılı\n",
      "31         60      Başarısız\n",
      "32         80       Başarılı\n",
      "33         90       Başarılı\n",
      "34         50      Başarısız\n",
      "35         75       Başarılı\n",
      "36         45      Başarısız\n",
      "37         85       Başarılı\n",
      "38         35      Başarısız\n",
      "39         95       Başarılı\n",
      "40         25      Başarısız\n",
      "41         70       Başarılı\n",
      "42         60      Başarısız\n",
      "43         80       Başarılı\n",
      "44         55      Başarısız\n",
      "45         90       Başarılı\n",
      "46         40      Başarısız\n",
      "47         85       Başarılı\n"
     ]
    }
   ],
   "source": [
    "import pandas as pd\n",
    "\n",
    "# Verileri liste olarak tanımla\n",
    "exam_notes = [80, 65, 90, 50, 75, 45, 85, 35, 95, 25, 70, 60, 80, 55, 90, 40, 85, 30, 95, 20, 70, 65, 90, 50, 75, 45, 85, 35, 95, 25, 70, 60, 80, 90, 50, 75, 45, 85, 35, 95, 25, 70, 60, 80, 55, 90, 40, 85]\n",
    "course_success = ['Başarılı', 'Başarılı', 'Başarılı', 'Başarısız', 'Başarılı', 'Başarısız', 'Başarılı', 'Başarısız', 'Başarılı', 'Başarısız', 'Başarılı', 'Başarısız', 'Başarılı', 'Başarısız', 'Başarılı', 'Başarısız', 'Başarılı', 'Başarısız', 'Başarılı', 'Başarısız', 'Başarılı', 'Başarısız', 'Başarılı', 'Başarısız', 'Başarılı', 'Başarısız', 'Başarılı', 'Başarısız', 'Başarılı', 'Başarısız', 'Başarılı', 'Başarısız', 'Başarılı', 'Başarılı', 'Başarısız', 'Başarılı', 'Başarısız', 'Başarılı', 'Başarısız', 'Başarılı', 'Başarısız', 'Başarılı', 'Başarısız', 'Başarılı', 'Başarısız', 'Başarılı', 'Başarısız', 'Başarılı']\n",
    "\n",
    "# Verileri DataFrame'e dönüştür\n",
    "df = pd.DataFrame({'exam_note': exam_notes, 'course_success': course_success})\n",
    "\n",
    "# DataFrame'i yazdır\n",
    "print(df)\n"
   ]
  }
 ],
 "metadata": {
  "kernelspec": {
   "display_name": "Python 3 (ipykernel)",
   "language": "python",
   "name": "python3"
  },
  "language_info": {
   "codemirror_mode": {
    "name": "ipython",
    "version": 3
   },
   "file_extension": ".py",
   "mimetype": "text/x-python",
   "name": "python",
   "nbconvert_exporter": "python",
   "pygments_lexer": "ipython3",
   "version": "3.11.5"
  }
 },
 "nbformat": 4,
 "nbformat_minor": 5
}
