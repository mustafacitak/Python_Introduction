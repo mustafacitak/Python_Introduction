{
 "cells": [
  {
   "cell_type": "code",
   "execution_count": null,
   "id": "35afcf84-624e-4d57-adfe-5b97a78ec705",
   "metadata": {},
   "outputs": [],
   "source": [
    "# PANDAS\n"
   ]
  },
  {
   "cell_type": "code",
   "execution_count": null,
   "id": "c248987f-5a39-4ed4-a6b1-ee330c515ff3",
   "metadata": {},
   "outputs": [],
   "source": [
    "#Pandas, büyük verileri analiz etmemizi ve istatistiksel teorilere dayalı sonuçlar çıkarmamızı sağlar.\n",
    "#Pandas, dağınık veri kümelerini temizleyebilir ve onları okunabilir ve ilgili hale getirebilir.\n",
    "#Veri bilimi alanında ilgili veriler çok önemlidir.\n",
    "\n"
   ]
  },
  {
   "cell_type": "code",
   "execution_count": null,
   "id": "c8d5dff6-39fa-4158-b96f-bf2855efdcc0",
   "metadata": {},
   "outputs": [],
   "source": [
    "'''\n",
    "\n",
    "Pandas size verilerle ilgili cevaplar verir. Örneğin:\n",
    "\n",
    "İki veya daha fazla sütun arasında bir ilişki var mı?\n",
    "Ortalama değer nedir?\n",
    "Maksimum değer nedir?\n",
    "Minimum değer nedir?\n",
    "'''"
   ]
  },
  {
   "cell_type": "code",
   "execution_count": null,
   "id": "22d293ff-12ce-444d-bbab-c1ad14d82973",
   "metadata": {},
   "outputs": [],
   "source": [
    "pip install pandas"
   ]
  },
  {
   "cell_type": "code",
   "execution_count": null,
   "id": "c3ede1fd-8bc6-4b68-8fda-2351eeac9765",
   "metadata": {},
   "outputs": [],
   "source": [
    "import pandas\n",
    "\n",
    "mydataset = {\n",
    "  'cars': [\"BMW\", \"Volvo\", \"Ford\"],\n",
    "  'passings': [3, 7, 2]\n",
    "}\n",
    "\n",
    "myvar = pandas.DataFrame(mydataset)\n",
    "\n",
    "print(myvar)"
   ]
  },
  {
   "cell_type": "code",
   "execution_count": null,
   "id": "c12f7214-881d-4ee6-8f57-0d8785d11c90",
   "metadata": {},
   "outputs": [],
   "source": [
    "import pandas as pd\n"
   ]
  },
  {
   "cell_type": "code",
   "execution_count": null,
   "id": "d55a1754-0555-492f-8e8c-84ad1be1e345",
   "metadata": {},
   "outputs": [],
   "source": [
    "mydataset = {\n",
    "  'cars': [\"BMW\", \"Volvo\", \"Ford\"],\n",
    "  'passings': [3, 7, 2]\n",
    "}\n",
    "\n",
    "myvar = pd.DataFrame(mydataset)\n",
    "\n",
    "print(myvar)"
   ]
  },
  {
   "cell_type": "code",
   "execution_count": null,
   "id": "51da4040-08a9-4d37-be1e-665ff8fd7b37",
   "metadata": {},
   "outputs": [],
   "source": [
    "#versiyon öğrenmek için kullanılır\n",
    "print(pd.__version__)"
   ]
  },
  {
   "cell_type": "code",
   "execution_count": null,
   "id": "17c7778b-a96e-4307-bec5-4380f2cc0e88",
   "metadata": {},
   "outputs": [],
   "source": [
    "# pandasla seriler oluşturulabilir\n",
    "import pandas as pd\n",
    "\n",
    "a = [1, 7, 2]\n",
    "\n",
    "myvar = pd.Series(a)\n",
    "\n",
    "print(myvar)"
   ]
  },
  {
   "cell_type": "code",
   "execution_count": null,
   "id": "8959950e-4266-4a47-b776-5eb99f0826bd",
   "metadata": {},
   "outputs": [],
   "source": [
    "print(myvar[\"y\"])"
   ]
  },
  {
   "cell_type": "code",
   "execution_count": null,
   "id": "a0f9e997-544c-4448-8fb2-a2772aeca8a5",
   "metadata": {},
   "outputs": [],
   "source": [
    "# serinin 0. elemanı\n",
    "print(myvar[0])\n"
   ]
  },
  {
   "cell_type": "code",
   "execution_count": null,
   "id": "e8799ddc-7cf1-49fa-864b-184aa4a9ee2d",
   "metadata": {},
   "outputs": [],
   "source": [
    "# c dilindeki data typelar\n",
    "# https://os.mbed.com/handbook/C-Data-Types"
   ]
  },
  {
   "cell_type": "code",
   "execution_count": null,
   "id": "11f803df-cd02-4d4d-84c4-9bda3bd42470",
   "metadata": {},
   "outputs": [],
   "source": [
    "import pandas as pd\n",
    "\n",
    "data = {\n",
    "  \"calories\": [420, 380, 390],\n",
    "  \"duration\": [50, 40, 45]\n",
    "}\n",
    "\n",
    "myvar = pd.DataFrame(data)\n",
    "\n",
    "print(myvar)"
   ]
  },
  {
   "cell_type": "code",
   "execution_count": null,
   "id": "430d50f6-aec9-4fec-ab46-000c90a46a85",
   "metadata": {},
   "outputs": [],
   "source": [
    "#dataframeler 2 boyutlu dizilerdir (satır ve sütunlardan oluşur)\n"
   ]
  },
  {
   "cell_type": "code",
   "execution_count": null,
   "id": "4edf0a77-ea95-4767-bccf-db4b2c5903b9",
   "metadata": {},
   "outputs": [],
   "source": [
    "# sadece 0. satırı yazdırmak istersek\n",
    "\n",
    "print(myvar.loc[0])"
   ]
  },
  {
   "cell_type": "code",
   "execution_count": null,
   "id": "7dcd21e4-5df6-428b-ab4d-0ed07e75f54b",
   "metadata": {},
   "outputs": [],
   "source": [
    "# 0 ve 1. satırları yazdırmak için:\n",
    "print(df.loc[[0, 1]])"
   ]
  },
  {
   "cell_type": "code",
   "execution_count": null,
   "id": "b23ade28-34f9-4a99-a957-c8ce03d9aa21",
   "metadata": {},
   "outputs": [],
   "source": [
    "#indexlere isim atanabilir:\n",
    "data = {\n",
    "  \"calories\": [420, 380, 390],\n",
    "  \"duration\": [50, 40, 45]\n",
    "}\n",
    "\n",
    "df = pd.DataFrame(data, index = [\"day1\", \"day2\", \"day3\"])\n",
    "\n",
    "print(df) "
   ]
  },
  {
   "cell_type": "code",
   "execution_count": null,
   "id": "71de1b23-de3d-4790-96db-f5b956b7a1c7",
   "metadata": {},
   "outputs": [],
   "source": [
    "# istenen indexteki satır ekrana yazdırılabilir\n",
    "print(df.loc[\"day2\"])"
   ]
  },
  {
   "cell_type": "code",
   "execution_count": null,
   "id": "f13fda9d-8db3-46b8-a8c1-e4c0b5307960",
   "metadata": {},
   "outputs": [],
   "source": [
    "import pandas as pd\n",
    "#stringe çevirmeden okunduğunda pandas sadece 5 satırı gösterir (row)\n",
    "df = pd.read_csv('apple_quality.csv')\n",
    "\n",
    "print(df) "
   ]
  },
  {
   "cell_type": "code",
   "execution_count": null,
   "id": "3e225e62-fd5c-4c3a-8986-12ce26c23e26",
   "metadata": {},
   "outputs": [],
   "source": [
    "#veri okumak için\n",
    "df = pd.read_csv('apple_quality.csv')\n",
    "\n",
    "print(df.to_string()) "
   ]
  },
  {
   "cell_type": "code",
   "execution_count": null,
   "id": "679ca5cf-ac2c-497d-99a8-44dc8572d321",
   "metadata": {},
   "outputs": [],
   "source": [
    "#pandasın en fazla kaç satır gösterebildiği: (sistemden sisteme değişebilir)\n",
    "import pandas as pd\n",
    "\n",
    "print(pd.options.display.max_rows) "
   ]
  },
  {
   "cell_type": "code",
   "execution_count": null,
   "id": "7f279c1e-b7fe-4474-98c7-68908a5e1baf",
   "metadata": {},
   "outputs": [],
   "source": [
    "# Veri analizi"
   ]
  },
  {
   "cell_type": "code",
   "execution_count": null,
   "id": "3c20bc83-5c39-4f18-813e-af2819a8bd2a",
   "metadata": {},
   "outputs": [],
   "source": [
    "# head metoduyla ilk 10 veri yazdırma\n",
    "import pandas as pd\n",
    "\n",
    "df = pd.read_csv('apple_quality.csv')\n",
    "\n",
    "print(df.head(10))"
   ]
  },
  {
   "cell_type": "code",
   "execution_count": null,
   "id": "31f7a529-4458-4eaa-9c81-b72d04a874b8",
   "metadata": {},
   "outputs": [],
   "source": [
    "# son 5 satırı yazdırma\n",
    "print(df.tail()) "
   ]
  },
  {
   "cell_type": "code",
   "execution_count": null,
   "id": "0fc7354d-4ff4-4d16-851a-615f9a3b11e2",
   "metadata": {},
   "outputs": [],
   "source": [
    "print(df.info()) "
   ]
  },
  {
   "cell_type": "code",
   "execution_count": null,
   "id": "58bf69db-9b65-4d82-b406-1ac72859e3aa",
   "metadata": {},
   "outputs": [],
   "source": [
    "# Matplotlib"
   ]
  },
  {
   "cell_type": "code",
   "execution_count": null,
   "id": "1396565b-a3ad-4b30-a221-2e755de145c5",
   "metadata": {},
   "outputs": [],
   "source": [
    "pip install matplotlib"
   ]
  },
  {
   "cell_type": "code",
   "execution_count": null,
   "id": "132a33ef-aef2-45ac-890a-eb2c7dd1898b",
   "metadata": {},
   "outputs": [],
   "source": [
    "import matplotlib"
   ]
  },
  {
   "cell_type": "code",
   "execution_count": null,
   "id": "1cd45cf9-8d6e-4545-b13f-d7420597b53f",
   "metadata": {},
   "outputs": [],
   "source": [
    "print(matplotlib.__version__)\n"
   ]
  },
  {
   "cell_type": "code",
   "execution_count": null,
   "id": "9b7f30cb-e223-45bf-a6af-d9a9bfcdf340",
   "metadata": {},
   "outputs": [],
   "source": [
    "import matplotlib.pyplot as plt\n"
   ]
  },
  {
   "cell_type": "code",
   "execution_count": null,
   "id": "c9aa8214-8541-4d21-9558-c32da10933b8",
   "metadata": {},
   "outputs": [],
   "source": [
    "import matplotlib.pyplot as plt\n",
    "import numpy as np\n",
    "\n",
    "xpoints = np.array([0, 6])\n",
    "ypoints = np.array([0, 250])\n",
    "\n",
    "plt.plot(xpoints, ypoints)\n",
    "plt.show()"
   ]
  },
  {
   "cell_type": "code",
   "execution_count": null,
   "id": "0d860799-b12d-4732-90e7-7127402e49a7",
   "metadata": {},
   "outputs": [],
   "source": [
    "# plot komutu noktadan noktaya çizgi çizer"
   ]
  },
  {
   "cell_type": "code",
   "execution_count": null,
   "id": "20e150bc-8706-4be2-bf43-6a3c6bb7e96b",
   "metadata": {},
   "outputs": [],
   "source": [
    "# (1, 3) den (8, 10) a çizgi çekmek için 2 array yollamalıyız\n",
    "# [1, 8] ve [3, 10] \n",
    "import matplotlib.pyplot as plt\n",
    "import numpy as np\n",
    "\n",
    "xpoints = np.array([1, 8])\n",
    "ypoints = np.array([3, 10])\n",
    "# 3. parametre olarak 'o' eklersek çizgi çizmek yerine nokta koyar\n",
    "plt.plot(xpoints, ypoints)\n",
    "plt.show()"
   ]
  },
  {
   "cell_type": "code",
   "execution_count": null,
   "id": "e2c37a64-ab14-481d-9a9e-15f101560730",
   "metadata": {},
   "outputs": [],
   "source": [
    "import matplotlib.pyplot as plt\n",
    "import numpy as np\n",
    "\n",
    "xpoints = np.array([1, 2, 6, 8])\n",
    "ypoints = np.array([3, 8, 1, 10])\n",
    "\n",
    "plt.plot(xpoints, ypoints)\n",
    "plt.show()"
   ]
  },
  {
   "cell_type": "code",
   "execution_count": null,
   "id": "aa034c0a-c1d7-4e5b-9a24-982f6c8f5851",
   "metadata": {},
   "outputs": [],
   "source": [
    "# Markerlarla çizim\n",
    "import matplotlib.pyplot as plt\n",
    "import numpy as np\n",
    "\n",
    "ypoints = np.array([3, 8, 1, 10])\n",
    "\n",
    "plt.plot(ypoints, marker = 'o')\n",
    "plt.show()"
   ]
  },
  {
   "cell_type": "code",
   "execution_count": null,
   "id": "f6ea26cb-cae0-405e-a9c0-7f043dbb49a1",
   "metadata": {},
   "outputs": [],
   "source": [
    "# marker|line|color şeklinde çalışır\n",
    "# o:r"
   ]
  },
  {
   "cell_type": "code",
   "execution_count": null,
   "id": "5d95f370-c5f1-46f0-866e-d280fdb71f15",
   "metadata": {},
   "outputs": [],
   "source": [
    "# marker sizeları da değiştirilebilir\n",
    "plt.plot(ypoints, marker = 'o', ms = 20)\n"
   ]
  },
  {
   "cell_type": "code",
   "execution_count": null,
   "id": "38e82ec9-9d91-40ba-b871-43ea9bbda513",
   "metadata": {},
   "outputs": [],
   "source": [
    "# Lines\n",
    "# çizgi grafikleri\n",
    "import matplotlib.pyplot as plt\n",
    "import numpy as np\n",
    "\n",
    "ypoints = np.array([3, 8, 1, 10])\n",
    "\n",
    "plt.plot(ypoints, linestyle = 'dotted')\n",
    "plt.show()"
   ]
  },
  {
   "cell_type": "code",
   "execution_count": null,
   "id": "0833390c-d849-455a-b8c5-e630a58d9f60",
   "metadata": {},
   "outputs": [],
   "source": [
    "# X ve Y eksenlerine isim verilebilir\n",
    "import numpy as np\n",
    "import matplotlib.pyplot as plt\n",
    "\n",
    "x = np.array([80, 85, 90, 95, 100, 105, 110, 115, 120, 125])\n",
    "y = np.array([240, 250, 260, 270, 280, 290, 300, 310, 320, 330])\n",
    "\n",
    "plt.plot(x, y)\n",
    "\n",
    "plt.xlabel(\"Average Pulse\")\n",
    "plt.ylabel(\"Calorie Burnage\")\n",
    "\n",
    "plt.show()"
   ]
  },
  {
   "cell_type": "code",
   "execution_count": null,
   "id": "20d4bab9-65c5-4c1c-9bd5-ab3c2db1502c",
   "metadata": {},
   "outputs": [],
   "source": [
    "# gridler açılabilir\n",
    "plt.grid()\n"
   ]
  },
  {
   "cell_type": "code",
   "execution_count": null,
   "id": "ee1fc978-b28c-481a-b8ae-fcde36ec71a2",
   "metadata": {},
   "outputs": [],
   "source": [
    "plt.grid(color = 'green', linestyle = '--', linewidth = 0.5)\n"
   ]
  },
  {
   "cell_type": "code",
   "execution_count": null,
   "id": "0430b8ae-2543-4b2f-8ee2-498105cf9b22",
   "metadata": {},
   "outputs": [],
   "source": [
    "#birden çok çizim yapılabilir\n",
    "import matplotlib.pyplot as plt\n",
    "import numpy as np\n",
    "\n",
    "#plot 1:\n",
    "x = np.array([0, 1, 2, 3])\n",
    "y = np.array([3, 8, 1, 10])\n",
    "\n",
    "plt.subplot(1, 2, 1)\n",
    "plt.plot(x,y)\n",
    "\n",
    "#plot 2:\n",
    "x = np.array([0, 1, 2, 3])\n",
    "y = np.array([10, 20, 30, 40])\n",
    "\n",
    "plt.subplot(1, 2, 2)\n",
    "plt.plot(x,y)\n",
    "\n",
    "plt.show()"
   ]
  },
  {
   "cell_type": "code",
   "execution_count": null,
   "id": "34f5599b-77fd-4748-9d8c-1ccfdf05a8f0",
   "metadata": {},
   "outputs": [],
   "source": [
    "# 6 lı bile olabilirler\n",
    "import matplotlib.pyplot as plt\n",
    "import numpy as np\n",
    "\n",
    "x = np.array([0, 1, 2, 3])\n",
    "y = np.array([3, 8, 1, 10])\n",
    "\n",
    "plt.subplot(2, 3, 1)\n",
    "plt.plot(x,y)\n",
    "\n",
    "x = np.array([0, 1, 2, 3])\n",
    "y = np.array([10, 20, 30, 40])\n",
    "\n",
    "plt.subplot(2, 3, 2)\n",
    "plt.plot(x,y)\n",
    "\n",
    "x = np.array([0, 1, 2, 3])\n",
    "y = np.array([3, 8, 1, 10])\n",
    "\n",
    "plt.subplot(2, 3, 3)\n",
    "plt.plot(x,y)\n",
    "\n",
    "x = np.array([0, 1, 2, 3])\n",
    "y = np.array([10, 20, 30, 40])\n",
    "\n",
    "plt.subplot(2, 3, 4)\n",
    "plt.plot(x,y)\n",
    "\n",
    "x = np.array([0, 1, 2, 3])\n",
    "y = np.array([3, 8, 1, 10])\n",
    "\n",
    "plt.subplot(2, 3, 5)\n",
    "plt.plot(x,y)\n",
    "\n",
    "x = np.array([0, 1, 2, 3])\n",
    "y = np.array([10, 20, 30, 40])\n",
    "\n",
    "plt.subplot(2, 3, 6)\n",
    "plt.plot(x,y)\n",
    "\n",
    "plt.show()"
   ]
  },
  {
   "cell_type": "code",
   "execution_count": null,
   "id": "00b53cb1-d43e-40a8-add3-b1c74f8e068f",
   "metadata": {},
   "outputs": [],
   "source": [
    "# scatterlar ile noktalar şeklinde gösterilebilir\n",
    "import matplotlib.pyplot as plt\n",
    "import numpy as np\n",
    "\n",
    "x = np.array([5,7,8,7,2,17,2,9,4,11,12,9,6])\n",
    "y = np.array([99,86,87,88,111,86,103,87,94,78,77,85,86])\n",
    "\n",
    "plt.scatter(x, y)\n",
    "plt.show()"
   ]
  },
  {
   "cell_type": "code",
   "execution_count": null,
   "id": "d4d62a37-ed47-4442-9d5e-7df82ec913e3",
   "metadata": {},
   "outputs": [],
   "source": [
    "import matplotlib.pyplot as plt\n",
    "import numpy as np\n",
    "\n",
    "#day one, the age and speed of 13 cars:\n",
    "x = np.array([5,7,8,7,2,17,2,9,4,11,12,9,6])\n",
    "y = np.array([99,86,87,88,111,86,103,87,94,78,77,85,86])\n",
    "plt.scatter(x, y)\n",
    "\n",
    "#day two, the age and speed of 15 cars:\n",
    "x = np.array([2,2,8,1,15,8,12,9,7,3,11,4,7,14,12])\n",
    "y = np.array([100,105,84,105,90,99,90,95,94,100,79,112,91,80,85])\n",
    "plt.scatter(x, y)\n",
    "\n",
    "plt.show()"
   ]
  },
  {
   "cell_type": "code",
   "execution_count": null,
   "id": "71f94139-afd6-4b7b-a172-4fd02327652f",
   "metadata": {},
   "outputs": [],
   "source": [
    "# renk de belirtilebilir\n",
    "import matplotlib.pyplot as plt\n",
    "import numpy as np\n",
    "\n",
    "x = np.array([5,7,8,7,2,17,2,9,4,11,12,9,6])\n",
    "y = np.array([99,86,87,88,111,86,103,87,94,78,77,85,86])\n",
    "plt.scatter(x, y, color = 'hotpink')\n",
    "\n",
    "x = np.array([2,2,8,1,15,8,12,9,7,3,11,4,7,14,12])\n",
    "y = np.array([100,105,84,105,90,99,90,95,94,100,79,112,91,80,85])\n",
    "plt.scatter(x, y, color = '#88c999')\n",
    "\n",
    "plt.show()\n"
   ]
  },
  {
   "cell_type": "code",
   "execution_count": null,
   "id": "4a18f0a4-6802-44ba-b3e1-ac1d37b4a1e1",
   "metadata": {},
   "outputs": [],
   "source": [
    "# bar grafikleri\n",
    "import matplotlib.pyplot as plt\n",
    "import numpy as np\n",
    "\n",
    "x = np.array([\"A\", \"B\", \"C\", \"D\"])\n",
    "y = np.array([3, 8, 1, 10])\n",
    "\n",
    "plt.bar(x,y)\n",
    "plt.show()"
   ]
  },
  {
   "cell_type": "code",
   "execution_count": null,
   "id": "1fcddb5d-be36-49c3-be25-d40f3afe8dbf",
   "metadata": {},
   "outputs": [],
   "source": [
    "# yan bar grafikleri\n",
    "import matplotlib.pyplot as plt\n",
    "import numpy as np\n",
    "\n",
    "x = np.array([\"A\", \"B\", \"C\", \"D\"])\n",
    "y = np.array([3, 8, 1, 10])\n",
    "\n",
    "plt.barh(x, y)\n",
    "plt.show()"
   ]
  },
  {
   "cell_type": "code",
   "execution_count": null,
   "id": "975f768d-8547-4392-b056-c33afa4620a0",
   "metadata": {},
   "outputs": [],
   "source": [
    "# pie chardlar\n",
    "import matplotlib.pyplot as plt\n",
    "import numpy as np\n",
    "\n",
    "y = np.array([35, 25, 25, 15])\n",
    "mylabels = [\"Apples\", \"Bananas\", \"Cherries\", \"Dates\"]\n",
    "\n",
    "plt.pie(y, labels = mylabels)\n",
    "plt.show() "
   ]
  }
 ],
 "metadata": {
  "kernelspec": {
   "display_name": "Python 3 (ipykernel)",
   "language": "python",
   "name": "python3"
  },
  "language_info": {
   "codemirror_mode": {
    "name": "ipython",
    "version": 3
   },
   "file_extension": ".py",
   "mimetype": "text/x-python",
   "name": "python",
   "nbconvert_exporter": "python",
   "pygments_lexer": "ipython3",
   "version": "3.12.1"
  }
 },
 "nbformat": 4,
 "nbformat_minor": 5
}
