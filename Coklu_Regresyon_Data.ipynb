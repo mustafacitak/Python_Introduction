{
 "cells": [
  {
   "cell_type": "code",
   "execution_count": 1,
   "id": "eb49dc5c",
   "metadata": {},
   "outputs": [
    {
     "name": "stdout",
     "output_type": "stream",
     "text": [
      "    house_size_(m²)  number_of_rooms location  house_price\n",
      "0               100                2   Merkez       500000\n",
      "1               120                3   Merkez       700000\n",
      "2                80                2  Banliyö       350000\n",
      "3               150                4   Merkez      1000000\n",
      "4                90                2  Banliyö       400000\n",
      "5               110                3  Banliyö       600000\n",
      "6                70                1   Merkez       300000\n",
      "7               130                4  Banliyö       800000\n",
      "8               140                3   Merkez       900000\n",
      "9               160                4  Banliyö      1100000\n",
      "10              180                5   Merkez      1300000\n",
      "11              100                3  Banliyö       550000\n",
      "12              120                2   Merkez       650000\n",
      "13               80                1  Banliyö       325000\n",
      "14              150                5   Merkez      1200000\n",
      "15               90                3  Banliyö       450000\n",
      "16              110                2   Merkez       625000\n",
      "17               70                2  Banliyö       375000\n",
      "18              130                4   Merkez       850000\n",
      "19              140                2  Banliyö       950000\n",
      "20              160                5   Merkez      1400000\n",
      "21              180                4  Banliyö      1250000\n",
      "22              120                4   Merkez       800000\n",
      "23              100                2  Banliyö       425000\n",
      "24              140                3   Merkez       925000\n",
      "25              160                4  Banliyö      1150000\n",
      "26              180                5   Merkez      1350000\n",
      "27              110                3  Banliyö       675000\n"
     ]
    }
   ],
   "source": [
    "import pandas as pd\n",
    "\n",
    "# Veri setini oluştur\n",
    "data = {\n",
    "    'house_size_(m²)': [100, 120, 80, 150, 90, 110, 70, 130, 140, 160, 180, 100, 120, 80, 150, 90, 110, 70, 130, 140, 160, 180, 120, 100, 140, 160, 180, 110],\n",
    "    'number_of_rooms': [2, 3, 2, 4, 2, 3, 1, 4, 3, 4, 5, 3, 2, 1, 5, 3, 2, 2, 4, 2, 5, 4, 4, 2, 3, 4, 5, 3],\n",
    "    'location': ['Merkez', 'Merkez', 'Banliyö', 'Merkez', 'Banliyö', 'Banliyö', 'Merkez', 'Banliyö', 'Merkez', 'Banliyö', 'Merkez', 'Banliyö', 'Merkez', 'Banliyö', 'Merkez', 'Banliyö', 'Merkez', 'Banliyö', 'Merkez', 'Banliyö', 'Merkez', 'Banliyö', 'Merkez', 'Banliyö', 'Merkez', 'Banliyö', 'Merkez', 'Banliyö'],\n",
    "    'house_price': [500000, 700000, 350000, 1000000, 400000, 600000, 300000, 800000, 900000, 1100000, 1300000, 550000, 650000, 325000, 1200000, 450000, 625000, 375000, 850000, 950000, 1400000, 1250000, 800000, 425000, 925000, 1150000, 1350000, 675000]\n",
    "}\n",
    "\n",
    "# DataFrame oluştur\n",
    "df = pd.DataFrame(data)\n",
    "\n",
    "# Veriyi göster\n",
    "print(df)\n"
   ]
  }
 ],
 "metadata": {
  "kernelspec": {
   "display_name": "Python 3 (ipykernel)",
   "language": "python",
   "name": "python3"
  },
  "language_info": {
   "codemirror_mode": {
    "name": "ipython",
    "version": 3
   },
   "file_extension": ".py",
   "mimetype": "text/x-python",
   "name": "python",
   "nbconvert_exporter": "python",
   "pygments_lexer": "ipython3",
   "version": "3.11.5"
  }
 },
 "nbformat": 4,
 "nbformat_minor": 5
}
