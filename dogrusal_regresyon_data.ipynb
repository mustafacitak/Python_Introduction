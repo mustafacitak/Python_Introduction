{
 "cells": [
  {
   "cell_type": "code",
   "execution_count": null,
   "id": "12d026ac",
   "metadata": {},
   "outputs": [],
   "source": [
    "revenue = np.array([6000, 9000, 12000, 15000, 18000, 4500, 7500, 12000, 9000, 16500, 10500, 18000, 6000, 13500, 12000, 19500, 7500, 15000, 9000, 16500, 4500, 12000, 10500, 18000, 6000, 13500, 7500, 15000, 9000, 16500])\n",
    "investment = np.array([2000, 3000, 4000, 5000, 6000, 1500, 2500, 4000, 3000, 5500, 3500, 6000, 2000, 4500, 4000, 6500, 2500, 5000, 3000, 5500, 1500, 4000, 3500, 6000, 2000, 4500, 2500, 5000, 3000, 5500])"
   ]
  }
 ],
 "metadata": {
  "kernelspec": {
   "display_name": "Python 3 (ipykernel)",
   "language": "python",
   "name": "python3"
  },
  "language_info": {
   "codemirror_mode": {
    "name": "ipython",
    "version": 3
   },
   "file_extension": ".py",
   "mimetype": "text/x-python",
   "name": "python",
   "nbconvert_exporter": "python",
   "pygments_lexer": "ipython3",
   "version": "3.11.5"
  }
 },
 "nbformat": 4,
 "nbformat_minor": 5
}
